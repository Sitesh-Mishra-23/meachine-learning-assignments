{
 "cells": [
  {
   "cell_type": "markdown",
   "metadata": {},
   "source": [
    "# Module 3: Data Structures Assignments\n",
    "## Lesson 3.1: Lists\n",
    "### Assignment 1: Creating and Accessing Lists\n",
    "\n",
    "Create a list of the first 20 positive integers. Print the list.\n",
    "\n",
    "### Assignment 2: Accessing List Elements\n",
    "\n",
    "Print the first, middle, and last elements of the list created in Assignment 1.\n",
    "\n",
    "### Assignment 3: List Slicing\n",
    "\n",
    "Print the first five elements, the last five elements, and the elements from index 5 to 15 of the list created in Assignment 1.\n",
    "\n",
    "### Assignment 4: List Comprehensions\n",
    "\n",
    "Create a new list containing the squares of the first 10 positive integers using a list comprehension. Print the new list.\n",
    "\n",
    "### Assignment 5: Filtering Lists\n",
    "\n",
    "Create a new list containing only the even numbers from the list created in Assignment 1 using a list comprehension. Print the new list.\n",
    "\n",
    "### Assignment 6: List Methods\n",
    "\n",
    "Create a list of random numbers and sort it in ascending and descending order. Remove the duplicates from the list and print the modified list.\n",
    "\n",
    "### Assignment 7: Nested Lists\n",
    "\n",
    "Create a nested list representing a 3x3 matrix and print the matrix. Access and print the element at the second row and third column.\n",
    "\n",
    "### Assignment 8: List of Dictionaries\n",
    "\n",
    "Create a list of dictionaries where each dictionary represents a student with keys 'name' and 'score'. Sort the list of dictionaries by the 'score' in descending order and print the sorted list.\n",
    "\n",
    "### Assignment 9: Matrix Transposition\n",
    "\n",
    "Write a function that takes a 3x3 matrix (nested list) as input and returns its transpose. Print the original and transposed matrices.\n",
    "\n",
    "### Assignment 10: Flattening a Nested List\n",
    "\n",
    "Write a function that takes a nested list and flattens it into a single list. Print the original and flattened lists.\n",
    "\n",
    "### Assignment 11: List Manipulation\n",
    "\n",
    "Create a list of the first 10 positive integers. Remove the elements at indices 2, 4, and 6, and insert the element '99' at index 5. Print the modified list.\n",
    "\n",
    "### Assignment 12: List Zipping\n",
    "\n",
    "Create two lists of the same length. Use the `zip` function to combine these lists into a list of tuples and print the result.\n",
    "\n",
    "### Assignment 13: List Reversal\n",
    "\n",
    "Write a function that takes a list and returns a new list with the elements in reverse order. Print the original and reversed lists.\n",
    "\n",
    "### Assignment 14: List Rotation\n",
    "\n",
    "Write a function that rotates a list by n positions. Print the original and rotated lists.\n",
    "\n",
    "### Assignment 15: List Intersection\n",
    "\n",
    "Write a function that takes two lists and returns a new list containing only the elements that are present in both lists. Print the intersected list."
   ]
  },
  {
   "cell_type": "markdown",
   "id": "bc7a549d",
   "metadata": {},
   "source": [
    "### Assignment 1: Creating and Accessing Lists\n",
    "\n",
    "Create a list of the first 20 positive integers. Print the list.\n",
    "\n",
    "### Assignment 2: Accessing List Elements\n",
    "\n",
    "Print the first, middle, and last elements of the list created in Assignment 1.\n",
    "\n",
    "### Assignment 3: List Slicing\n",
    "\n",
    "Print the first five elements, the last five elements, and the elements from index 5 to 15 of the list created in Assignment 1."
   ]
  },
  {
   "cell_type": "code",
   "execution_count": 8,
   "metadata": {},
   "outputs": [
    {
     "name": "stdout",
     "output_type": "stream",
     "text": [
      "[1, 2, 3, 4, 5, 6, 7, 8, 9, 10, 11, 12, 13, 14, 15, 16, 17, 18, 19, 20]\n",
      "1 2 3 4 5 6 7 8 9 10 11 12 13 14 15 16 17 18 19 20 \n",
      "first element is =  1\n",
      "middle element is = 11\n",
      "last element is = 20\n",
      "\n",
      "first five elements are = [1, 2, 3, 4, 5]\n",
      "last five elements are = [16, 17, 18, 19, 20]\n",
      "remaing elements are = [6, 7, 8, 9, 10, 11, 12, 13, 14, 15]\n"
     ]
    }
   ],
   "source": [
    "list1=[1,2,3,4,5,6,7,8,9,10,11,12,13,14,15,16,17,18,19,20]\n",
    "print(list1)\n",
    "for i in list1:\n",
    "    print(i,end=' ')\n",
    "print()\n",
    "print('first element is = ',list1[0])\n",
    "print('middle element is =',list1[10])\n",
    "print('last element is =',list1[-1])\n",
    "print()\n",
    "print(\"first five elements are =\",list1[0:5] )\n",
    "\n",
    "print(\"last five elements are =\" ,list1[15:])\n",
    "print(\"remaing elements are =\" ,list1[5:15])"
   ]
  },
  {
   "cell_type": "markdown",
   "id": "85b33d0a",
   "metadata": {},
   "source": [
    "### Assignment 4: List Comprehensions\n",
    "\n",
    "Create a new list containing the squares of the first 10 positive integers using a list comprehension. Print the new list."
   ]
  },
  {
   "cell_type": "code",
   "execution_count": 9,
   "id": "4cd3998a",
   "metadata": {},
   "outputs": [
    {
     "name": "stdout",
     "output_type": "stream",
     "text": [
      "[1, 4, 9, 16, 25, 36, 49, 64, 81, 100]\n"
     ]
    }
   ],
   "source": [
    "list1=[i**2 for i in range(1,11)]\n",
    "print(list1)"
   ]
  },
  {
   "cell_type": "markdown",
   "id": "140703ba",
   "metadata": {},
   "source": [
    "### Assignment 5: Filtering Lists\n",
    "\n",
    "Create a new list containing only the even numbers from the list created in Assignment 1 using a list comprehension. Print the new list."
   ]
  },
  {
   "cell_type": "code",
   "execution_count": 10,
   "id": "034ba547",
   "metadata": {},
   "outputs": [
    {
     "name": "stdout",
     "output_type": "stream",
     "text": [
      "[2, 4, 6, 8, 10, 12, 14, 16, 18, 20]\n"
     ]
    }
   ],
   "source": [
    "list1=list(range(1,21))\n",
    "list2=[i  for i in list1 if(i%2==0)]\n",
    "print(list2)"
   ]
  },
  {
   "cell_type": "markdown",
   "id": "98cdb9d1",
   "metadata": {},
   "source": [
    "### Assignment 6: List Methods\n",
    "\n",
    "Create a list of random numbers and sort it in ascending and descending order. Remove the duplicates from the list and print the modified list."
   ]
  },
  {
   "cell_type": "code",
   "execution_count": 16,
   "id": "d4e898f5",
   "metadata": {},
   "outputs": [
    {
     "name": "stdout",
     "output_type": "stream",
     "text": [
      "[2, 11, 12, 23, 34, 51, 56, 68, 99]\n",
      "[99, 68, 56, 51, 34, 23, 12, 11, 2]\n"
     ]
    }
   ],
   "source": [
    "list1=[2,34,23,56,11,68,99,12,51]\n",
    "list1.sort()\n",
    "print(list1)\n",
    "\n",
    "list1.sort(reverse=True)\n",
    "print(list1)"
   ]
  },
  {
   "cell_type": "markdown",
   "id": "b7cacd5f",
   "metadata": {},
   "source": [
    "### Assignment 7: Nested Lists\n",
    "\n",
    "Create a nested list representing a 3x3 matrix and print the matrix. Access and print the element at the second row and third column."
   ]
  },
  {
   "cell_type": "code",
   "execution_count": 18,
   "id": "6d3685af",
   "metadata": {},
   "outputs": [
    {
     "name": "stdout",
     "output_type": "stream",
     "text": [
      "1 2 3 \n",
      "4 5 6 \n",
      "7 8 9 \n",
      "second row and third column element is  = 6\n"
     ]
    }
   ],
   "source": [
    "list1=[[1,2,3],[4,5,6],[7,8,9]]\n",
    "for i in list1:\n",
    "    for j in i:\n",
    "        print(j,end=' ')\n",
    "    print()\n",
    "\n",
    "print(\"second row and third column element is  =\",list1[1][2])"
   ]
  },
  {
   "cell_type": "markdown",
   "id": "acde5415",
   "metadata": {},
   "source": [
    "### Assignment 8: List of Dictionaries\n",
    "\n",
    "Create a list of dictionaries where each dictionary represents a student with keys 'name' and 'score'. Sort the list of dictionaries by the 'score' in descending order and print the sorted list."
   ]
  },
  {
   "cell_type": "code",
   "execution_count": 21,
   "id": "ca7b50e5",
   "metadata": {},
   "outputs": [
    {
     "name": "stdout",
     "output_type": "stream",
     "text": [
      "[{'name': 'rohan', 'score': 99}, {'name': 'Mohan', 'score': 98}, {'name': 'Sitesh', 'score': 89}, {'name': 'sohan', 'score': 78}]\n"
     ]
    }
   ],
   "source": [
    "from operator import itemgetter\n",
    "list1=[{'name':'Sitesh','score':89},{'name':'Mohan','score':98},{'name':'sohan','score':78},{'name':'rohan','score':99}]\n",
    "list1.sort(key=itemgetter('score'),reverse=True)\n",
    "print(list1)"
   ]
  },
  {
   "cell_type": "markdown",
   "id": "3b2f471d",
   "metadata": {},
   "source": [
    "### Assignment 9: Matrix Transposition\n",
    "\n",
    "Write a function that takes a 3x3 matrix (nested list) as input and returns its transpose. Print the original and transposed matrices."
   ]
  },
  {
   "cell_type": "code",
   "execution_count": 29,
   "id": "2aa63b4d",
   "metadata": {},
   "outputs": [
    {
     "name": "stdout",
     "output_type": "stream",
     "text": [
      "[[1, 2, 3], [4, 5, 6], [7, 8, 9]]\n",
      "[[1, 4, 7], [2, 5, 8], [3, 6, 9]]\n"
     ]
    }
   ],
   "source": [
    "list1=[]\n",
    "for i in range(3):\n",
    "    row=[]\n",
    "    for j in range(3):\n",
    "        num=int(input(f'enter number for index {i} {j}='))\n",
    "        row.append(num)\n",
    "    list1.append(row)\n",
    "\n",
    "print(list1)\n",
    "\n",
    "list2=[[0]*3 for k in range(3)]\n",
    "\n",
    "for i in range(3):\n",
    "    for j in range(3):\n",
    "        list2[j][i]=list1[i][j]\n",
    "\n",
    "print(list2)"
   ]
  },
  {
   "cell_type": "markdown",
   "id": "b5b58fd9",
   "metadata": {},
   "source": [
    "### Assignment 10: Flattening a Nested List\n",
    "\n",
    "Write a function that takes a nested list and flattens it into a single list. Print the original and flattened lists."
   ]
  },
  {
   "cell_type": "code",
   "execution_count": 32,
   "id": "8f3a4773",
   "metadata": {},
   "outputs": [
    {
     "name": "stdout",
     "output_type": "stream",
     "text": [
      "[[1, 2], [3, 4]]\n",
      "[1, 2, 3, 4]\n"
     ]
    }
   ],
   "source": [
    "list1=[[0]*2 for k in range(2)]\n",
    "for i in range(2):\n",
    "    for j in range(2):\n",
    "        list1[i][j]=int(input(f'enter number for index {i} {j}='))\n",
    "\n",
    "print(list1)\n",
    "\n",
    "list2=[]\n",
    "for i in range(2):\n",
    "    for j in range(2):\n",
    "        list2.append(list1[i][j])\n",
    "\n",
    "print(list2)"
   ]
  },
  {
   "cell_type": "markdown",
   "id": "ecb41d5d",
   "metadata": {},
   "source": [
    "### Assignment 11: List Manipulation\n",
    "\n",
    "Create a list of the first 10 positive integers. Remove the elements at indices 2, 4, and 6, and insert the element '99' at index 5. Print the modified list.\n"
   ]
  },
  {
   "cell_type": "code",
   "execution_count": 33,
   "id": "0e85163d",
   "metadata": {},
   "outputs": [
    {
     "name": "stdout",
     "output_type": "stream",
     "text": [
      "[1, 2, 4, 5, 7, 99, 8, 10]\n"
     ]
    }
   ],
   "source": [
    "list1=list(range(1,11))\n",
    "list1.pop(2)\n",
    "list1.pop(4)\n",
    "list1.pop(6)\n",
    "list1.insert(5,99)\n",
    "print(list1)"
   ]
  },
  {
   "cell_type": "markdown",
   "id": "2844d090",
   "metadata": {},
   "source": [
    "Create two lists of the same length. Use the `zip` function to combine these lists into a list of tuples and print the result."
   ]
  },
  {
   "cell_type": "code",
   "execution_count": 35,
   "id": "c6847b51",
   "metadata": {},
   "outputs": [
    {
     "name": "stdout",
     "output_type": "stream",
     "text": [
      "[(1, 6), (2, 7), (3, 8), (4, 9), (5, 10)]\n"
     ]
    }
   ],
   "source": [
    "list1=list(range(1,6))\n",
    "list2=list(range(6,11))\n",
    "list3=list(zip(list1,list2))\n",
    "\n",
    "print(list3)"
   ]
  },
  {
   "cell_type": "markdown",
   "id": "1d5fc657",
   "metadata": {},
   "source": [
    "### Assignment 13: List Reversal\n",
    "\n",
    "Write a function that takes a list and returns a new list with the elements in reverse order. Print the original and reversed lists."
   ]
  },
  {
   "cell_type": "code",
   "execution_count": 37,
   "id": "e303d161",
   "metadata": {},
   "outputs": [
    {
     "name": "stdout",
     "output_type": "stream",
     "text": [
      "[6, 5, 4, 3, 2, 1]\n"
     ]
    }
   ],
   "source": [
    "def reverse_list(list):\n",
    "    return list.reverse()\n",
    "\n",
    "list1=[1,2,3,4,5,6]\n",
    "reverse_list(list1)\n",
    "print(list1)"
   ]
  },
  {
   "cell_type": "markdown",
   "id": "09b580a5",
   "metadata": {},
   "source": [
    "### Assignment 14: List Rotation\n",
    "\n",
    "Write a function that rotates a list by n positions. Print the original and rotated lists.\n",
    "\n",
    "### Assignment 15: List Intersection\n",
    "\n",
    "Write a function that takes two lists and returns a new list containing only the elements that are present in both lists. Print the intersected list."
   ]
  },
  {
   "cell_type": "code",
   "execution_count": 39,
   "id": "7a79c17b",
   "metadata": {},
   "outputs": [
    {
     "name": "stdout",
     "output_type": "stream",
     "text": [
      "[2, 3, 4, 1]\n"
     ]
    }
   ],
   "source": [
    "def rotated_list(list,n):\n",
    "    rot=list.copy()\n",
    "    for k in range(n):\n",
    "        rot.append(rot.pop(0))\n",
    "    return rot\n",
    "\n",
    "list1=[1,2,3,4]\n",
    "list2=rotated_list(list1,1)\n",
    "print(list2)"
   ]
  },
  {
   "cell_type": "code",
   "execution_count": 40,
   "id": "ca3821e7",
   "metadata": {},
   "outputs": [
    {
     "name": "stdout",
     "output_type": "stream",
     "text": [
      "[3, 2, 6]\n"
     ]
    }
   ],
   "source": [
    "def intersected_list(list1,list2):\n",
    "    list3=[i for i in list1 if i in list2]\n",
    "    return list3\n",
    "\n",
    "list1=[1,3,2,6,7]\n",
    "list2=[2,3,4,5,6]\n",
    "\n",
    "list3=intersected_list(list1,list2)\n",
    "print(list3)\n",
    "\n"
   ]
  }
 ],
 "metadata": {
  "kernelspec": {
   "display_name": "Python 3",
   "language": "python",
   "name": "python3"
  },
  "language_info": {
   "codemirror_mode": {
    "name": "ipython",
    "version": 3
   },
   "file_extension": ".py",
   "mimetype": "text/x-python",
   "name": "python",
   "nbconvert_exporter": "python",
   "pygments_lexer": "ipython3",
   "version": "3.12.0"
  }
 },
 "nbformat": 4,
 "nbformat_minor": 5
}
