{
 "cells": [
  {
   "cell_type": "markdown",
   "metadata": {},
   "source": [
    "# Module 5: Modules and Packages Assignments\n",
    "## Lesson 5.1: Importing Modules\n",
    "### Assignment 1: Importing and Using Modules\n",
    "\n",
    "Import the `math` module and use it to calculate the square root of 25 and the sine of 90 degrees.\n",
    "\n",
    "### Assignment 2: Aliasing Modules\n",
    "\n",
    "Import the `datetime` module with an alias and use it to print the current date and time.\n",
    "\n",
    "### Assignment 3: Importing Specific Functions\n",
    "\n",
    "Import the `randint` function from the `random` module and use it to generate a random integer between 1 and 100.\n",
    "\n",
    "### Assignment 4: Importing Multiple Functions\n",
    "\n",
    "Import the `sqrt` and `pow` functions from the `math` module and use them to calculate the square root of 16 and 2 raised to the power of 3.\n",
    "\n",
    "### Assignment 5: Handling Import Errors\n",
    "\n",
    "Write code that attempts to import a non-existent module and gracefully handles the import error by printing an error message.\n",
    "\n",
    "## Lesson 5.2: Standard Library Overview\n",
    "### Assignment 6: Working with the `os` Module\n",
    "\n",
    "Use the `os` module to create a new directory, list the contents of the current directory, and remove the newly created directory.\n",
    "\n",
    "### Assignment 7: Working with the `sys` Module\n",
    "\n",
    "Use the `sys` module to print the Python version currently in use and the command-line arguments passed to the script.\n",
    "\n",
    "### Assignment 8: Working with the `math` Module\n",
    "\n",
    "Use the `math` module to calculate the greatest common divisor (GCD) of two numbers and the factorial of a number.\n",
    "\n",
    "### Assignment 9: Working with the `datetime` Module\n",
    "\n",
    "Use the `datetime` module to print the current date, calculate the date 100 days from today, and determine the day of the week for a given date.\n",
    "\n",
    "### Assignment 10: Working with the `random` Module\n",
    "\n",
    "Use the `random` module to generate a list of 5 random numbers between 1 and 50 and shuffle the elements of a list.\n",
    "\n",
    "## Lesson 5.3: Creating and Using Packages\n",
    "### Assignment 11: Creating a Simple Package\n",
    "\n",
    "Create a package named `mypackage` with two modules: `module1` and `module2`. `module1` should contain a function that adds two numbers, and `module2` should contain a function that multiplies two numbers. Write code to use these functions.\n",
    "\n",
    "### Assignment 12: Using `__init__.py`\n",
    "\n",
    "Modify the `mypackage` package to include an `__init__.py` file that imports the functions from `module1` and `module2`. Write code to use these functions.\n",
    "\n",
    "### Assignment 13: Importing from a Package\n",
    "\n",
    "Write code to import and use the functions from `mypackage` without explicitly importing `module1` and `module2`.\n",
    "\n",
    "### Assignment 14: Relative Imports\n",
    "\n",
    "Create a subpackage named `subpackage` within `mypackage` and move `module2` into `subpackage`. Modify the import statements in `__init__.py` to use relative imports. Write code to use the functions from both modules.\n",
    "\n",
    "### Assignment 15: Handling Package Import Errors\n",
    "\n",
    "Write code that attempts to import a non-existent function from `mypackage` and gracefully handles the import error by printing an error message."
   ]
  },
  {
   "cell_type": "markdown",
   "id": "4490b42d",
   "metadata": {},
   "source": [
    "### Assignment 1: Importing and Using Modules\n",
    "\n",
    "Import the `math` module and use it to calculate the square root of 25 and the sine of 90 degrees.\n"
   ]
  },
  {
   "cell_type": "code",
   "execution_count": 2,
   "id": "e9fd7a4e",
   "metadata": {},
   "outputs": [
    {
     "name": "stdout",
     "output_type": "stream",
     "text": [
      "5.0\n",
      "1.0\n"
     ]
    }
   ],
   "source": [
    "import math\n",
    "print(math.sqrt(25))\n",
    "print(math.sin(math.radians(90)))"
   ]
  },
  {
   "cell_type": "markdown",
   "id": "1afdb40a",
   "metadata": {},
   "source": [
    "### Assignment 2: Aliasing Modules\n",
    "\n",
    "Import the `datetime` module with an alias and use it to print the current date and time."
   ]
  },
  {
   "cell_type": "code",
   "execution_count": 4,
   "id": "f19a932d",
   "metadata": {},
   "outputs": [
    {
     "name": "stdout",
     "output_type": "stream",
     "text": [
      "2025-08-16 08:32:26.871896\n"
     ]
    }
   ],
   "source": [
    "import datetime as dt\n",
    "\n",
    "print(dt.datetime.now())"
   ]
  },
  {
   "cell_type": "markdown",
   "id": "b42077c0",
   "metadata": {},
   "source": [
    "### Assignment 3: Importing Specific Functions\n",
    "\n",
    "Import the `randint` function from the `random` module and use it to generate a random integer between 1 and 100."
   ]
  },
  {
   "cell_type": "code",
   "execution_count": 5,
   "id": "aa7b9934",
   "metadata": {},
   "outputs": [
    {
     "name": "stdout",
     "output_type": "stream",
     "text": [
      "88\n"
     ]
    }
   ],
   "source": [
    "from random import randint\n",
    "\n",
    "print(randint(1,100))"
   ]
  },
  {
   "cell_type": "markdown",
   "id": "36099eb6",
   "metadata": {},
   "source": [
    "### Assignment 4: Importing Multiple Functions\n",
    "\n",
    "Import the `sqrt` and `pow` functions from the `math` module and use them to calculate the square root of 16 and 2 raised to the power of 3."
   ]
  },
  {
   "cell_type": "code",
   "execution_count": 6,
   "id": "95fb83c7",
   "metadata": {},
   "outputs": [
    {
     "name": "stdout",
     "output_type": "stream",
     "text": [
      "4.0\n",
      "8.0\n"
     ]
    }
   ],
   "source": [
    "from math import sqrt, pow\n",
    "\n",
    "print(sqrt(16))\n",
    "print(pow(2,3))\n"
   ]
  },
  {
   "cell_type": "markdown",
   "id": "508b984e",
   "metadata": {},
   "source": [
    "### Assignment 5: Handling Import Errors\n",
    "\n",
    "Write code that attempts to import a non-existent module and gracefully handles the import error by printing an error message."
   ]
  },
  {
   "cell_type": "code",
   "execution_count": 7,
   "id": "4aa7ce81",
   "metadata": {},
   "outputs": [
    {
     "name": "stdout",
     "output_type": "stream",
     "text": [
      "error is No module named 'nonexistmodule'\n"
     ]
    }
   ],
   "source": [
    "try:\n",
    "    import nonexistmodule\n",
    "except ImportError as e:\n",
    "    print(f'error is {e}')\n"
   ]
  },
  {
   "cell_type": "markdown",
   "id": "891b762f",
   "metadata": {},
   "source": [
    "### Assignment 6: Working with the `os` Module\n",
    "\n",
    "Use the `os` module to create a new directory, list the contents of the current directory, and remove the newly created directory."
   ]
  },
  {
   "cell_type": "code",
   "execution_count": null,
   "id": "20c2e497",
   "metadata": {},
   "outputs": [
    {
     "name": "stdout",
     "output_type": "stream",
     "text": [
      "['advancefunctions.ipynb', 'assignments.ipynb', 'dictionaries_assignment.ipynb', 'list_Assignment.ipynb', 'new_one', 'packagesquestion.ipynb', 'sets_assignment.ipynb', 'tuple_assignment.ipynb', 'venv']\n"
     ]
    }
   ],
   "source": [
    "import os \n",
    "\n",
    "os.mkdir('new_one')\n",
    "\n",
    "print(os.listdir('.'))\n",
    "\n",
    "os.rmdir('new_one')"
   ]
  },
  {
   "cell_type": "markdown",
   "id": "517980ae",
   "metadata": {},
   "source": [
    "### Assignment 7: Working with the `sys` Module\n",
    "\n",
    "Use the `sys` module to print the Python version currently in use and the command-line arguments passed to the script.\n"
   ]
  },
  {
   "cell_type": "code",
   "execution_count": 12,
   "id": "a184d389",
   "metadata": {},
   "outputs": [
    {
     "name": "stdout",
     "output_type": "stream",
     "text": [
      "3.12.0 | packaged by Anaconda, Inc. | (main, Oct  2 2023, 17:20:38) [MSC v.1916 64 bit (AMD64)]\n",
      "['c:\\\\Users\\\\Sitesh\\\\Downloads\\\\ML udemy\\\\Assignments (ME)\\\\venv\\\\Lib\\\\site-packages\\\\ipykernel_launcher.py', '--f=c:\\\\Users\\\\Sitesh\\\\AppData\\\\Roaming\\\\jupyter\\\\runtime\\\\kernel-v3c532dd5c2caa5b28dc0641b98a6ba33d45ff6cec.json']\n"
     ]
    }
   ],
   "source": [
    "import sys\n",
    "\n",
    "print(sys.version)\n",
    "print(sys.argv)"
   ]
  },
  {
   "cell_type": "markdown",
   "id": "3dea6bdd",
   "metadata": {},
   "source": [
    "### Assignment 8: Working with the `math` Module\n",
    "\n",
    "Use the `math` module to calculate the greatest common divisor (GCD) of two numbers and the factorial of a number."
   ]
  },
  {
   "cell_type": "code",
   "execution_count": 14,
   "id": "23cdb0b1",
   "metadata": {},
   "outputs": [
    {
     "name": "stdout",
     "output_type": "stream",
     "text": [
      "16\n",
      "120\n"
     ]
    }
   ],
   "source": [
    "import math as m\n",
    "\n",
    "print(m.gcd(16,2016))\n",
    "print(m.factorial(5))"
   ]
  },
  {
   "cell_type": "markdown",
   "id": "70947e1d",
   "metadata": {},
   "source": [
    "### Assignment 9: Working with the `datetime` Module\n",
    "\n",
    "Use the `datetime` module to print the current date, calculate the date 100 days from today, and determine the day of the week for a given date."
   ]
  },
  {
   "cell_type": "code",
   "execution_count": 19,
   "id": "8a52cbdd",
   "metadata": {},
   "outputs": [
    {
     "name": "stdout",
     "output_type": "stream",
     "text": [
      "2025-08-16\n",
      "2025-11-24\n",
      "Day of the week for 2022-01-01: Saturday\n"
     ]
    }
   ],
   "source": [
    "import datetime as dt\n",
    "\n",
    "print(dt.date.today())\n",
    "\n",
    "print(dt.date.today()+dt.timedelta(100))\n",
    "given_date = dt.date(2022, 1, 1)\n",
    "print(f\"Day of the week for 2022-01-01: {given_date.strftime('%A')}\")"
   ]
  },
  {
   "cell_type": "markdown",
   "id": "049d2bbf",
   "metadata": {},
   "source": [
    "### Assignment 10: Working with the `random` Module\n",
    "\n",
    "Use the `random` module to generate a list of 5 random numbers between 1 and 50 and shuffle the elements of a list."
   ]
  },
  {
   "cell_type": "code",
   "execution_count": 21,
   "id": "2248c3a2",
   "metadata": {},
   "outputs": [
    {
     "name": "stdout",
     "output_type": "stream",
     "text": [
      "[46, 39, 14, 27, 49]\n",
      "[49, 46, 39, 14, 27]\n"
     ]
    }
   ],
   "source": [
    "import random\n",
    "\n",
    "list1=[random.randint(1,50) for i in range(5)]\n",
    "\n",
    "print(list1)\n",
    "\n",
    "random.shuffle(list1)\n",
    "print(list1)"
   ]
  },
  {
   "cell_type": "markdown",
   "id": "6fbda937",
   "metadata": {},
   "source": [
    "### Assignment 11: Creating a Simple Package\n",
    "\n",
    "Create a package named `mypackage` with two modules: `module1` and `module2`. `module1` should contain a function that adds two numbers, and `module2` should contain a function that multiplies two numbers. Write code to use these functions."
   ]
  },
  {
   "cell_type": "code",
   "execution_count": null,
   "id": "2bc090ad",
   "metadata": {},
   "outputs": [
    {
     "name": "stdout",
     "output_type": "stream",
     "text": [
      "5\n",
      "6\n"
     ]
    }
   ],
   "source": [
    "from mypackage import module1\n",
    "from mypackage.subpackage import module2\n",
    "\n",
    "print(module1.add(2,3))\n",
    "print(module2.mul(2,3))"
   ]
  },
  {
   "cell_type": "markdown",
   "id": "e3c31c0a",
   "metadata": {},
   "source": [
    "### Assignment 12: Using `__init__.py`\n",
    "\n",
    "Modify the `mypackage` package to include an `__init__.py` file that imports the functions from `module1` and `module2`. Write code to use these functions."
   ]
  },
  {
   "cell_type": "code",
   "execution_count": 6,
   "id": "5642186a",
   "metadata": {},
   "outputs": [
    {
     "name": "stdout",
     "output_type": "stream",
     "text": [
      "5\n",
      "6\n"
     ]
    }
   ],
   "source": [
    "from mypackage import add,mul\n",
    "\n",
    "print(add(2,3))\n",
    "print(mul(2,3))"
   ]
  },
  {
   "cell_type": "markdown",
   "id": "713c3a7e",
   "metadata": {},
   "source": [
    "### Assignment 13: Importing from a Package\n",
    "\n",
    "Write code to import and use the functions from `mypackage` without explicitly importing `module1` and `module2`."
   ]
  },
  {
   "cell_type": "code",
   "execution_count": 5,
   "id": "2153e888",
   "metadata": {},
   "outputs": [
    {
     "name": "stdout",
     "output_type": "stream",
     "text": [
      "5\n",
      "6\n"
     ]
    }
   ],
   "source": [
    "from mypackage import add, mul\n",
    "\n",
    "print(add(2, 3))  # 5\n",
    "print(mul(2, 3))  # 6"
   ]
  },
  {
   "cell_type": "markdown",
   "id": "a057430b",
   "metadata": {},
   "source": [
    "### Assignment 14: Relative Imports\n",
    "\n",
    "Create a subpackage named `subpackage` within `mypackage` and move `module2` into `subpackage`. Modify the import statements in `__init__.py` to use relative imports. Write code to use the functions from both modules."
   ]
  },
  {
   "cell_type": "code",
   "execution_count": 8,
   "id": "7fef178d",
   "metadata": {},
   "outputs": [
    {
     "name": "stdout",
     "output_type": "stream",
     "text": [
      "5\n",
      "6\n"
     ]
    }
   ],
   "source": [
    "from mypackage import add, mul\n",
    "\n",
    "print(add(2, 3))  # 5\n",
    "print(mul(2, 3))  # 6"
   ]
  },
  {
   "cell_type": "markdown",
   "id": "a47419b9",
   "metadata": {},
   "source": [
    "### Assignment 15: Handling Package Import Errors\n",
    "\n",
    "Write code that attempts to import a non-existent function from `mypackage` and gracefully handles the import error by printing an error message."
   ]
  },
  {
   "cell_type": "code",
   "execution_count": 9,
   "id": "1aa0df4c",
   "metadata": {},
   "outputs": [
    {
     "name": "stdout",
     "output_type": "stream",
     "text": [
      "error is cannot import name 'nonexistmodule' from 'mypackage' (c:\\Users\\Sitesh\\Downloads\\ML udemy\\Assignments_ME\\mypackage\\__init__.py)\n"
     ]
    }
   ],
   "source": [
    "try:\n",
    "    from mypackage import nonexistmodule\n",
    "except ImportError as e:\n",
    "    print(f'error is {e}')\n"
   ]
  }
 ],
 "metadata": {
  "kernelspec": {
   "display_name": "Python 3",
   "language": "python",
   "name": "python3"
  },
  "language_info": {
   "codemirror_mode": {
    "name": "ipython",
    "version": 3
   },
   "file_extension": ".py",
   "mimetype": "text/x-python",
   "name": "python",
   "nbconvert_exporter": "python",
   "pygments_lexer": "ipython3",
   "version": "3.12.0"
  }
 },
 "nbformat": 4,
 "nbformat_minor": 5
}
