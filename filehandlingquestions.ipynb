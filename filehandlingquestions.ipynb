{
 "cells": [
  {
   "cell_type": "markdown",
   "metadata": {},
   "source": [
    "# Module: File Handling Assignments\n",
    "## Lesson: File Handling and Operations\n",
    "### Assignment 1: Reading a File\n",
    "\n",
    "Write a function that reads the contents of a file named `sample.txt` and prints each line.\n",
    "\n",
    "### Assignment 2: Writing to a File\n",
    "\n",
    "Write a function that writes a list of strings to a file named `output.txt`, with each string on a new line.\n",
    "\n",
    "### Assignment 3: Copying a File\n",
    "\n",
    "Write a function that copies the contents of a file named `source.txt` to a new file named `destination.txt`.\n",
    "\n",
    "### Assignment 4: Appending to a File\n",
    "\n",
    "Write a function that appends a given string to the end of a file named `log.txt`.\n",
    "\n",
    "### Assignment 5: Counting Words in a File\n",
    "\n",
    "Write a function that reads the contents of a file named `document.txt` and returns the number of words in the file.\n",
    "\n",
    "### Assignment 6: Finding and Replacing Text\n",
    "\n",
    "Write a function that finds and replaces all occurrences of a given word in a file named `data.txt` with another word.\n",
    "\n",
    "### Assignment 7: Reading a File in Reverse\n",
    "\n",
    "Write a function that reads the contents of a file named `reverse.txt` and prints each line in reverse order.\n",
    "\n",
    "### Assignment 8: Counting Lines, Words, and Characters\n",
    "\n",
    "Write a function that reads the contents of a file named `stats.txt` and returns the number of lines, words, and characters in the file.\n",
    "\n",
    "### Assignment 9: Merging Multiple Files\n",
    "\n",
    "Write a function that merges the contents of multiple files into a single file named `merged.txt`.\n",
    "\n",
    "### Assignment 10: Splitting a Large File\n",
    "\n",
    "Write a function that splits a large file named `large.txt` into smaller files of 100 lines each.\n",
    "\n",
    "### Assignment 11: Creating a Log File\n",
    "\n",
    "Write a function that creates a log file named `activity.log` and writes log messages with timestamps.\n",
    "\n",
    "### Assignment 12: Binary File Operations\n",
    "\n",
    "Write a function that reads a binary file named `image.bin` and writes its contents to another binary file named `copy_image.bin`.\n",
    "\n",
    "### Assignment 13: CSV File Operations\n",
    "\n",
    "Write a function that reads a CSV file named `data.csv` and prints its contents as a list of dictionaries.\n",
    "\n",
    "### Assignment 14: JSON File Operations\n",
    "\n",
    "Write a function that reads a JSON file named `data.json` and prints its contents as a Python dictionary.\n",
    "\n",
    "### Assignment 15: File Permission Handling\n",
    "\n",
    "Write a function that attempts to read a file named `protected.txt` and handles any permission errors gracefully by printing an error message."
   ]
  },
  {
   "cell_type": "markdown",
   "id": "22a6c306",
   "metadata": {},
   "source": [
    "### Assignment 1: Reading a File\n",
    "\n",
    "Write a function that reads the contents of a file named `sample.txt` and prints each line."
   ]
  },
  {
   "cell_type": "code",
   "execution_count": 1,
   "id": "696b1a4c",
   "metadata": {},
   "outputs": [],
   "source": [
    "def file_read(filename):\n",
    "    with open(filename,'r') as file:\n",
    "        for line in file:\n",
    "            print(line.strip())"
   ]
  },
  {
   "cell_type": "code",
   "execution_count": 3,
   "id": "7ac6b613",
   "metadata": {},
   "outputs": [
    {
     "name": "stdout",
     "output_type": "stream",
     "text": [
      "my name is sitesh mishra\n",
      "i am btech student\n",
      "i am in 3rd year\n",
      "i am in ece branch\n"
     ]
    }
   ],
   "source": [
    "file_read('sample.txt')"
   ]
  },
  {
   "cell_type": "markdown",
   "id": "c82e26f4",
   "metadata": {},
   "source": [
    "### Assignment 2: Writing to a File\n",
    "\n",
    "Write a function that writes a list of strings to a file named `output.txt`, with each string on a new line."
   ]
  },
  {
   "cell_type": "code",
   "execution_count": 4,
   "id": "d1574848",
   "metadata": {},
   "outputs": [],
   "source": [
    "def file_write(lines,filename):\n",
    "    with open(filename,'w') as file:\n",
    "        for line in lines:\n",
    "            file.write(line + '\\n')"
   ]
  },
  {
   "cell_type": "code",
   "execution_count": 5,
   "id": "870fd209",
   "metadata": {},
   "outputs": [],
   "source": [
    "file_write(['my name is sitesh','i am btech student'],'output.txt')"
   ]
  },
  {
   "cell_type": "markdown",
   "id": "6c9ce6e3",
   "metadata": {},
   "source": [
    "### Assignment 3: Copying a File\n",
    "\n",
    "Write a function that copies the contents of a file named `source.txt` to a new file named `destination.txt`."
   ]
  },
  {
   "cell_type": "code",
   "execution_count": 6,
   "id": "2ebcdc1b",
   "metadata": {},
   "outputs": [],
   "source": [
    "def file_copy(sourcefile,destinationfile):\n",
    "    with open(sourcefile,'r') as file1:\n",
    "        with open(destinationfile,'w') as file2:\n",
    "            file2.write(file1.read())"
   ]
  },
  {
   "cell_type": "code",
   "execution_count": 7,
   "id": "1db3dbde",
   "metadata": {},
   "outputs": [],
   "source": [
    "file_copy('source.txt','destination.txt')"
   ]
  },
  {
   "cell_type": "markdown",
   "id": "d88b5cd2",
   "metadata": {},
   "source": [
    "### Assignment 4: Appending to a File\n",
    "\n",
    "Write a function that appends a given string to the end of a file named `log.txt`."
   ]
  },
  {
   "cell_type": "code",
   "execution_count": 12,
   "id": "c5423561",
   "metadata": {},
   "outputs": [],
   "source": [
    "def file_append(filename,string):\n",
    "    with open(filename,'a') as file:\n",
    "        file.write('\\n'+string)"
   ]
  },
  {
   "cell_type": "code",
   "execution_count": 13,
   "id": "f250e023",
   "metadata": {},
   "outputs": [],
   "source": [
    "file_append('source.txt','i am btech student')"
   ]
  },
  {
   "cell_type": "markdown",
   "id": "9edda60d",
   "metadata": {},
   "source": [
    "### Assignment 5: Counting Words in a File\n",
    "\n",
    "Write a function that reads the contents of a file named `document.txt` and returns the number of words in the file."
   ]
  },
  {
   "cell_type": "code",
   "execution_count": 20,
   "id": "dc43b8c3",
   "metadata": {},
   "outputs": [],
   "source": [
    "def word_count(filename):\n",
    "    with open(filename,'r') as file:\n",
    "        count=0\n",
    "        for line in file:\n",
    "            words=line.split()\n",
    "            count=count+len(words)\n",
    "    return count\n"
   ]
  },
  {
   "cell_type": "code",
   "execution_count": 21,
   "id": "7f67bc44",
   "metadata": {},
   "outputs": [
    {
     "data": {
      "text/plain": [
       "8"
      ]
     },
     "execution_count": 21,
     "metadata": {},
     "output_type": "execute_result"
    }
   ],
   "source": [
    "word_count('source.txt')"
   ]
  },
  {
   "cell_type": "markdown",
   "id": "394725fc",
   "metadata": {},
   "source": [
    "### Assignment 6: Finding and Replacing Text\n",
    "\n",
    "Write a function that finds and replaces all occurrences of a given word in a file named `data.txt` with another word."
   ]
  },
  {
   "cell_type": "code",
   "execution_count": 30,
   "id": "93037f15",
   "metadata": {},
   "outputs": [],
   "source": [
    "def replace_word(filename,old,new):\n",
    "    with open(filename,'r') as file:\n",
    "        word=file.read()\n",
    "    new_word=word.replace(old,new)\n",
    "    with open(filename,'w') as file1:\n",
    "        file1.write(new_word)\n"
   ]
  },
  {
   "cell_type": "code",
   "execution_count": 31,
   "id": "932e8ec5",
   "metadata": {},
   "outputs": [],
   "source": [
    "replace_word('output.txt','sitesh','hi')"
   ]
  },
  {
   "cell_type": "markdown",
   "id": "b8d63d19",
   "metadata": {},
   "source": [
    "\n",
    "### Assignment 7: Reading a File in Reverse\n",
    "\n",
    "Write a function that reads the contents of a file named `reverse.txt` and prints each line in reverse order."
   ]
  },
  {
   "cell_type": "code",
   "execution_count": 45,
   "id": "c9c03fd8",
   "metadata": {},
   "outputs": [],
   "source": [
    "def reverse_file(filename):\n",
    "    with open(filename,'r') as file:\n",
    "        lines=file.readlines()\n",
    "    for i in reversed(lines):\n",
    "        print(i.strip())"
   ]
  },
  {
   "cell_type": "code",
   "execution_count": 46,
   "id": "2f4fecfe",
   "metadata": {},
   "outputs": [
    {
     "name": "stdout",
     "output_type": "stream",
     "text": [
      "i am btech student\n",
      "my name is hi\n"
     ]
    }
   ],
   "source": [
    "reverse_file('output.txt')"
   ]
  },
  {
   "cell_type": "markdown",
   "id": "29a45f49",
   "metadata": {},
   "source": [
    "### Assignment 8: Counting Lines, Words, and Characters\n",
    "\n",
    "Write a function that reads the contents of a file named `stats.txt` and returns the number of lines, words, and characters in the file."
   ]
  },
  {
   "cell_type": "code",
   "execution_count": 51,
   "id": "ee2479c8",
   "metadata": {},
   "outputs": [],
   "source": [
    "def counts(filename):\n",
    "    with open(filename,'r') as file:\n",
    "        lines=file.readlines()\n",
    "        lines_count = len(lines)\n",
    "        words_count=sum(len(line.split()) for line in lines)\n",
    "        char_count= sum(len(line) for line in lines)\n",
    "        print(f'number of lines ={lines_count}')\n",
    "        print(f'number of words ={words_count}')\n",
    "        print(f'number of charecters ={char_count}')\n"
   ]
  },
  {
   "cell_type": "code",
   "execution_count": 52,
   "id": "324d916a",
   "metadata": {},
   "outputs": [
    {
     "name": "stdout",
     "output_type": "stream",
     "text": [
      "number of lines =2\n",
      "number of words =8\n",
      "number of charecters =33\n"
     ]
    }
   ],
   "source": [
    "counts('output.txt')"
   ]
  },
  {
   "cell_type": "markdown",
   "id": "6367cb91",
   "metadata": {},
   "source": [
    "### Assignment 9: Merging Multiple Files\n",
    "\n",
    "Write a function that merges the contents of multiple files into a single file named `merged.txt`."
   ]
  },
  {
   "cell_type": "code",
   "execution_count": null,
   "id": "9520b7c4",
   "metadata": {},
   "outputs": [],
   "source": [
    "def merge_files(file_list, output_file):\n",
    "    with open(output_file, 'w') as outfile:\n",
    "        for fname in file_list:\n",
    "            with open(fname, 'r') as infile:\n",
    "                outfile.write(infile.read() + '\\n')"
   ]
  }
 ],
 "metadata": {
  "kernelspec": {
   "display_name": "Python 3",
   "language": "python",
   "name": "python3"
  },
  "language_info": {
   "codemirror_mode": {
    "name": "ipython",
    "version": 3
   },
   "file_extension": ".py",
   "mimetype": "text/x-python",
   "name": "python",
   "nbconvert_exporter": "python",
   "pygments_lexer": "ipython3",
   "version": "3.12.0"
  }
 },
 "nbformat": 4,
 "nbformat_minor": 5
}
